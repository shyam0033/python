{
  "cells": [
    {
      "cell_type": "markdown",
      "metadata": {
        "id": "3tbS9iCXzKzg"
      },
      "source": [
        "#  Word Frequency"
      ]
    },
    {
      "cell_type": "markdown",
      "metadata": {
        "id": "TqBF6ZUfzKzk"
      },
      "source": [
        "## Table of contents\n",
        "1. [Introduction](#introduction)\n",
        "2. [Data](#data)\n",
        "3. [Data analysis, Code and Data Plots](#methodology)\n",
        "4. [Discussion and Commentary](#results)\n",
        "6. [Conclusion](#conclusion)\n",
        "7. [References](#references)"
      ]
    },
    {
      "cell_type": "markdown",
      "metadata": {
        "id": "oFJkUYvIzKzm"
      },
      "source": [
        "\n",
        "## 1. Introduction<a name=\"introduction\"></a>"
      ]
    },
    {
      "cell_type": "markdown",
      "metadata": {
        "id": "-ve4WggZzKzn"
      },
      "source": [
        "This notebook uses Address of President Roosevelt at St. Louis, Missouri, October 2, 1907 by Roosevelt data from project Gutenberg and identifies the most frequent words and how often do they occur. \n",
        "\n",
        "Words that appear a lot in the English language such as 'the', 'of' and 'a', the common words, are excluded from the counting. \n",
        "\n",
        "A graph is then plotted to visualise the word frequencies."
      ]
    },
    {
      "cell_type": "markdown",
      "metadata": {
        "id": "3ZsA1qFLzKzp"
      },
      "source": [
        "## 2. Data <a name=\"data\"></a>"
      ]
    },
    {
      "cell_type": "markdown",
      "source": [
        "The data used here is Address of President Roosevelt at St. Louis, Missouri, October 2, 1907 by Roosevelt downloaded from Project Gutenberg book https://www.gutenberg.org/files/68159/68159-h/68159-h.htm"
      ],
      "metadata": {
        "id": "HcoiSgYuBOO3"
      }
    },
    {
      "cell_type": "markdown",
      "source": [
        "## 3. Data analysis, Code and Data Plots <a name=\"methodology\"></a>"
      ],
      "metadata": {
        "id": "LsVOyLtDBQA_"
      }
    },
    {
      "cell_type": "markdown",
      "metadata": {
        "id": "jxcrhf6-zKzq"
      },
      "source": [
        "Import the headers\n"
      ]
    },
    {
      "cell_type": "code",
      "source": [
        "import requests\n",
        "import re\n",
        "import nltk\n",
        "import seaborn as sns\n",
        "import matplotlib.pyplot as plt"
      ],
      "metadata": {
        "id": "d-thmoL69OfO"
      },
      "execution_count": 27,
      "outputs": []
    },
    {
      "cell_type": "markdown",
      "source": [
        "Get data"
      ],
      "metadata": {
        "id": "un-4bNPK9SWA"
      }
    },
    {
      "cell_type": "code",
      "source": [
        "#get the dataset from link\n",
        "dataset='https://www.gutenberg.org/files/68159/68159-h/68159-h.htm'\n",
        "reading=requests.get(dataset)"
      ],
      "metadata": {
        "id": "BUgk53TaKs0p"
      },
      "execution_count": 28,
      "outputs": []
    },
    {
      "cell_type": "markdown",
      "source": [
        "Download text and filter non-ebook content"
      ],
      "metadata": {
        "id": "IVHBCPO6K35c"
      }
    },
    {
      "cell_type": "code",
      "source": [
        "import requests\n",
        "\n",
        "\n",
        "url = \"https://www.gutenberg.org/cache/epub/68181/pg68181.txt\"\n",
        "r = requests.get(url, allow_redirects=True)\n",
        "filename = 'pg68181.txt'\n",
        "\n",
        "open(filename, 'wb').write(r.content)\n",
        "\n",
        "# filter non ebook txt\n",
        "has_started = False \n",
        "text = ''\n",
        "with open(filename) as file:\n",
        "    lines = file.readlines()\n",
        "    for line in lines:\n",
        "      line = line.rstrip()\n",
        "      if \"*** START OF THE PROJECT GUTENBERG EBOOK\" in line:\n",
        "        has_started = True\n",
        "      elif \"*** END OF THE PROJECT GUTENBERG EBOOK\" in line:\n",
        "        break\n",
        "      if has_started:\n",
        "        text += f'\\n{line}'\n",
        "print(text)"
      ],
      "metadata": {
        "colab": {
          "base_uri": "https://localhost:8080/"
        },
        "id": "-VhfyhgtQ-ON",
        "outputId": "02ef50fe-2a2c-4e00-e602-c848d2e2c32c"
      },
      "execution_count": 29,
      "outputs": [
        {
          "output_type": "stream",
          "name": "stdout",
          "text": [
            "\n",
            "*** START OF THE PROJECT GUTENBERG EBOOK ADDRESS OF PRESIDENT\n",
            "ROOSEVELT AT ST. LOUIS, MISSOURI, OCTOBER 2, 1907 ***\n",
            "\n",
            "\n",
            "\n",
            "\n",
            "\n",
            "                   ADDRESS OF PRESIDENT ROOSEVELT AT\n",
            "           ST. LOUIS, MISSOURI [Illustration] OCTOBER 2, 1907\n",
            "\n",
            "\n",
            "                             [Illustration]\n",
            "\n",
            "\n",
            "                               WASHINGTON\n",
            "                       GOVERNMENT PRINTING OFFICE\n",
            "                                  1907\n",
            "\n",
            "\n",
            "\n",
            "\n",
            "It is a very real pleasure to address this body of citizens of Missouri\n",
            "here in the great city of St. Louis. I have often visited St. Louis\n",
            "before, but always by rail. Now I am visiting it in the course of a\n",
            "trip by water, a trip on the great natural highway which runs past\n",
            "your very doors――a highway once so important, now almost abandoned,\n",
            "which I hope this nation will see not only restored to all its\n",
            "former usefulness, but given a far greater degree of usefulness to\n",
            "correspond with the extraordinary growth in wealth and population of\n",
            "the Mississippi Valley. We have lived in an era of phenomenal railroad\n",
            "building. As routes for merchandise, the iron highways have completely\n",
            "supplanted the old wagon roads, and under their competition the\n",
            "importance of the water highways has been much diminished. The growth\n",
            "of the railway system has been rapid all over the world, but nowhere so\n",
            "rapid as in the United States. Accompanying this there has grown in the\n",
            "United States a tendency toward the practically complete abandonment of\n",
            "the system of water transportation. Such a tendency is certainly not\n",
            "healthy and I am convinced that it will not be permanent. There are\n",
            "many classes of commodities, especially those which are perishable in\n",
            "their nature and where the value is high relatively to the bulk, which\n",
            "will always be carried by rail. But bulky commodities which are not of\n",
            "a perishable nature will always be specially suited for the conditions\n",
            "of water transport. To illustrate the truth of this statement it would\n",
            "only be necessary to point to the use of the canal system in many\n",
            "countries of the Old World; but it can be illustrated even better by\n",
            "what has happened nearer home. The Great Lakes offer a prime example of\n",
            "the importance of a good water highway for mercantile traffic. As the\n",
            "line of traffic runs through lakes, the conditions are in some respects\n",
            "different from what must obtain on even the most important river.\n",
            "Nevertheless, it is well to remember that a very large part of this\n",
            "traffic is conditioned upon an artificial waterway, a canal――the famous\n",
            "Soo. The commerce that passes through the Soo far surpasses in bulk and\n",
            "in value that of the Suez Canal.\n",
            "\n",
            "From every standpoint it is desirable for the Nation to join in\n",
            "improving the greatest system of river highways within its borders, a\n",
            "system second only in importance to the highway afforded by the Great\n",
            "Lakes; the highways of the Mississippi and its great tributaries, such\n",
            "as the Missouri and Ohio. This river system traverses too many States\n",
            "to render it possible to leave merely to the States the task of fitting\n",
            "it for the greatest use of which it is capable. It is emphatically\n",
            "a national task, for this great river system is itself one of our\n",
            "chief national assets. Within the last few years there has been an\n",
            "awakening in this country to the need of both the conservation and the\n",
            "development of our national resources under the supervision of and by\n",
            "the aid of the Federal Government. This is especially true of all that\n",
            "concerns our running waters. On the mountains from which the springs\n",
            "start we are now endeavoring to preserve the forests which regulate the\n",
            "water supply and prevent too startling variations between droughts and\n",
            "freshets. Below the mountains, in the high dry regions of the western\n",
            "plains, we endeavor to secure the proper utilization of the waters\n",
            "for irrigation. This is at the sources of the streams. Farther down,\n",
            "where they become navigable, our aim must be to try to develop a policy\n",
            "which shall secure the utmost advantage from the navigable waters.\n",
            "Finally, on the lower courses of the Mississippi, the Nation should\n",
            "do its full share in the work of levee building; and, incidentally\n",
            "to its purpose of serving navigation, this will also prevent the ruin\n",
            "of alluvial bottoms by floods. Our knowledge is not sufficiently far\n",
            "advanced to enable me to speak definitely as to the plans which should\n",
            "be adopted; but let me say one word of warning: The danger of entering\n",
            "on any such scheme lies in the adoption of impossible and undesirable\n",
            "plans, plans the adoption of which means an outlay of money extravagant\n",
            "beyond all proportion to the return, or which, though feasible, are\n",
            "not, relatively to other plans, of an importance which warrant their\n",
            "adoption. It will not be easy to secure the assent of a fundamentally\n",
            "cautious people like our own to the adoption of such a policy as that\n",
            "I hope to see adopted; and even if we begin to follow out such a\n",
            "policy it certainly will not be persevered in if it is found to entail\n",
            "reckless extravagance or to be tainted with jobbery. The interests of\n",
            "the Nation as a whole must be always the first consideration.\n",
            "\n",
            "This is properly a national movement, because all interstate and\n",
            "foreign commerce, and the improvements and methods of carrying it on,\n",
            "are subjects for national action. Moreover, while of course the matter\n",
            "of the improvement of the Mississippi River and its tributaries is one\n",
            "which especially concerns the great middle portion of our country, the\n",
            "region between the Alleghenies and the Rockies, yet it is of concern to\n",
            "the rest of the country also, for it can not too often be said that\n",
            "whatever is really beneficial to one part of our country is ultimately\n",
            "of benefit to the whole. Exactly as it is a good thing for the interior\n",
            "of our country that the seaports on the Atlantic and the Pacific and\n",
            "the Gulf should be safe and commodious, so it is to the interest of the\n",
            "dwellers on the coast that the interior should possess ample facilities\n",
            "for the transportation of its products. Our interests are all closely\n",
            "interwoven, and in the long run it will be found that we go up or go\n",
            "down together.\n",
            "\n",
            "Take, for instance, the Panama Canal. If the Mississippi is restored\n",
            "to its former place of importance as a highway of commerce, then the\n",
            "building of the Panama Canal will be felt as an immediate advantage\n",
            "to the business of every city and country district in the Mississippi\n",
            "Valley. I think that the building of that canal will be of especial\n",
            "advantage to the States that lie along the Pacific and the States that\n",
            "lie along the Gulf; and yet, after all, I feel that the advantage will\n",
            "be shared in an only less degree by the States of the interior and of\n",
            "the Atlantic coast. In other words, it is a thoroughly national work,\n",
            "undertaken for and redounding to the advantage of all of us――to the\n",
            "advantage of the Nation as a whole. Therefore I am glad to be able to\n",
            "report to you how well we are doing with the canal. There is bound to\n",
            "be a certain amount of experiment, a certain amount of feeling our way,\n",
            "in a task so gigantic――a task greater than any of its kind that has\n",
            "ever hitherto been undertaken in the whole history of mankind; but the\n",
            "success so far has been astonishing, and we have not met with a single\n",
            "one of the accidents or drawbacks which I freely confess I expected\n",
            "we should from time to time encounter. We, in the first place, laid\n",
            "the foundation for the work by securing the most favorable possible\n",
            "conditions as regard the health, comfort, and safety of the men who\n",
            "were to do it; and now the Canal Zone is in point of health better\n",
            "off than the average district of the same size at home. Then we went\n",
            "at the problem of the actual digging and dam building. For over a year\n",
            "past we have been engaged in making the dirt fly in good earnest,\n",
            "and the output of the giant steam shovels has steadily increased. It\n",
            "is now the rainy season, when work is most difficult on the Isthmus,\n",
            "yet in the month of August last we excavated over a million and two\n",
            "hundred thousand cubic yards of earth and rock, a greater amount than\n",
            "in any previous month. If we are able to keep up substantially the\n",
            "rate of progress that now obtains we shall finish the actual digging\n",
            "within five or six years; though when we come to the great Gatun dam\n",
            "and locks, while there is no question as to the work being feasible,\n",
            "there are several elements entering into the time problem which make it\n",
            "unwise at present to hazard a prophecy in reference thereto.\n",
            "\n",
            "Now, gentlemen, this leads me up to another matter for national\n",
            "consideration, and that is our Navy. The Navy is not primarily of\n",
            "importance only to the coast regions. It is every bit as much the\n",
            "concern of the farmer who dwells a thousand miles from sea water as\n",
            "of the fisherman who makes his living on the ocean, for it is the\n",
            "concern of every good American who knows what the meaning of the\n",
            "word patriotism is. This country is definitely committed to certain\n",
            "fundamental policies――to the Monroe doctrine, for instance, and to\n",
            "the duty not only of building, but, when it is built, of policing\n",
            "and defending the Panama Canal. We have definitely taken our place\n",
            "among the great world powers, and it would be a sign of ignoble\n",
            "weakness, having taken such a place, to shirk its responsibilities.\n",
            "Therefore, unless we are willing to abandon this place, to abandon\n",
            "our insistence upon the Monroe doctrine, to give up the Panama Canal,\n",
            "and to be content to acknowledge ourselves a weak and timid nation,\n",
            "we must steadily build up and maintain a great fighting Navy. Our\n",
            "Navy is already so efficient as to be a matter of just pride to every\n",
            "American. So long as our Navy is no larger than at present, it must\n",
            "be considered as an elementary principle that the bulk of our battle\n",
            "fleet must always be kept together. When the Panama Canal is built it\n",
            "can be transferred without difficulty from one part of our coast to\n",
            "the other; but even before that canal is built it ought to be thus\n",
            "transferred to and fro from time to time. In a couple of months our\n",
            "fleet of great armored ships starts for the Pacific. California,\n",
            "Oregon, and Washington have a coast line which is our coast line just\n",
            "as emphatically as the coast line of New York and Maine, of Louisiana\n",
            "and Texas. Our fleet is going to its own home waters in the Pacific,\n",
            "and after a stay there it will return to its own home waters in the\n",
            "Atlantic. The best place for a naval officer to learn his duties is\n",
            "at sea, by performing them, and only by actually putting through a\n",
            "voyage of this nature, a voyage longer than any ever before undertaken\n",
            "by as large a fleet of any nation, can we find out just exactly what\n",
            "is necessary for us to know as to our naval needs and practice our\n",
            "officers and enlisted men in the highest duties of their profession.\n",
            "Among all our citizens there is no body of equal size to whom we owe\n",
            "quite as much as to the officers and enlisted men of the Army and Navy\n",
            "of the United States, and I bespeak from you the fullest and heartiest\n",
            "support, in the name of our Nation and of our flag, for the services\n",
            "to which these men belong.\n",
            "\n",
            "In conclusion I wish to say a word to this body, containing as it\n",
            "does so many business men, upon what is preeminently a business\n",
            "proposition, and that is the proper national supervision and control of\n",
            "corporations. At the meeting of the American Bar Association in this\n",
            "last August, Judge Charles F. Amidon, of North Dakota, read a paper on\n",
            "the Nation and the Constitution so admirable that it is deserving of\n",
            "very wide study; for what he said was, as all studies of law in its\n",
            "highest form ought to be, a contribution to constructive jurisprudence\n",
            "as it should be understood not only by judges but by legislators, not\n",
            "only by those who interpret and decide the law, but by those who make\n",
            "it and who administer or execute it. He quoted from the late Justice\n",
            "Miller, of the Supreme Court, to show that even in the interpretation\n",
            "of the Constitution by this, the highest authority of the land, the\n",
            "court’s successive decisions must be tested by the way they work in\n",
            "actual application to the National life; the court adding to its\n",
            "thought and study the results of experience and observation until the\n",
            "true solution is evolved by a process both of inclusion and exclusion.\n",
            "Said Justice Miller: “The meaning of the Constitution is to be sought\n",
            "as much in the National life as in the dictionary;” for, as has been\n",
            "well said, government purely out of a law library can never be really\n",
            "good government.\n",
            "\n",
            "Now that the questions of government are becoming so largely economic,\n",
            "the majority of our so-called constitutional cases really turn not\n",
            "upon the interpretation of the instrument itself, but upon the\n",
            "construction, the right apprehension of the living conditions to which\n",
            "it is to be applied. The Constitution is now and must remain what it\n",
            "always has been; but it can only be interpreted as the interests of\n",
            "the whole people demand, if interpreted as a living organism, designed\n",
            "to meet the conditions of life and not of death; in other words, if\n",
            "interpreted as Marshall interpreted it, as Wilson declared it should be\n",
            "interpreted. The Marshall theory, the theory of life and not of death,\n",
            "allows to the Nation, that is to the people as a whole, when once it\n",
            "finds a subject within the national cognizance, the widest and freest\n",
            "choice of methods for national control, and sustains every exercise of\n",
            "national power which has any reasonable relation to national objects.\n",
            "The negation of this theory means, for instance, that the Nation――that\n",
            "we, the ninety millions of people of this country――will be left\n",
            "helpless to control the huge corporations which now domineer in our\n",
            "industrial life, and that they will have the authority of the courts to\n",
            "work their desires unchecked; and such a decision would in the end be\n",
            "as disastrous for them as for us. If the theory of the Marshall school\n",
            "prevails, then an immense field of national power, now unused, will be\n",
            "developed, which will be adequate for dealing with many, if not all,\n",
            "of the economic problems which vex us; and we shall be saved from the\n",
            "ominous threat of a constant oscillation between economic tyranny and\n",
            "economic chaos. Our industrial, and therefore our social, future as a\n",
            "Nation depends upon settling aright this urgent question.\n",
            "\n",
            "The Constitution is unchanged and unchangeable save by amendment in due\n",
            "form. But the conditions to which it is to be applied have undergone\n",
            "a change which is almost a transformation, with the result that many\n",
            "subjects formerly under the control of the States have come under the\n",
            "control of the Nation. As one of the justices of the Supreme Court has\n",
            "recently said: “The growth of national powers, under our Constitution,\n",
            "which marks merely the great outlines and designates only the great\n",
            "objects of national concern, is to be compared to the growth of a\n",
            "country not by the geographical enlargement of its boundaries, but\n",
            "by the increase of its population.” A hundred years ago there was,\n",
            "except the commerce which crawled along our seacoast or up and down our\n",
            "interior waterways, practically no interstate commerce. Now, by the\n",
            "railroad, the mails, the telegraph, and the telephone an immense part\n",
            "of our commerce is interstate. By the transformation it has escaped\n",
            "from the power of the State and come under the power of the Nation.\n",
            "Therefore there has been a great practical change in the exercise\n",
            "of the National power, under the acts of Congress, over interstate\n",
            "commerce; while on the other hand there has been no noticeable change\n",
            "in the exercise of the National power “to regulate commerce with\n",
            "foreign nations and with the Indian tribes.” The change as regards\n",
            "interstate commerce has been, not in the Constitution, but in the\n",
            "business of the people to which it is to be applied. Our economic\n",
            "and social future depends in very large part upon how the interstate\n",
            "commerce power of the Nation is interpreted.\n",
            "\n",
            "I believe that the Nation has the whole governmental power over\n",
            "interstate commerce and the widest discretion in dealing with that\n",
            "subject; of course under the express limits prescribed in the\n",
            "Constitution for the exercise of all powers, such for instance as the\n",
            "condition that “due process of law” shall not be denied. The Nation\n",
            "has no direct power over purely intrastate commerce, even where it is\n",
            "conducted by the same agencies which conduct interstate commerce. The\n",
            "courts must determine what is national and what is State commerce. The\n",
            "same reasoning which sustained the power of Congress to incorporate\n",
            "the United States Bank tends to sustain the power to incorporate an\n",
            "interstate railroad, or any other corporation conducting an interstate\n",
            "business.\n",
            "\n",
            "There are difficulties arising from our dual form of government.\n",
            "If they prove to be insuperable resort must be had to the power of\n",
            "amendment. Let us first try to meet them by an exercise of all the\n",
            "powers of the National Government which in the Marshall spirit of\n",
            "broad interpretation can be found in the Constitution as it is. They\n",
            "are of vast extent. The chief economic question of the day in this\n",
            "country is to provide a sovereign for the great corporations engaged\n",
            "in interstate business; that is, for the railroads and the interstate\n",
            "industrial corporations. At the moment our prime concern is with\n",
            "the railroads. When railroads were first built they were purely\n",
            "local in character. Their boundaries were not coextensive even with\n",
            "the boundaries of one State. They usually covered but two or three\n",
            "counties. All this has now changed. At present five great systems\n",
            "embody nearly four-fifths of the total mileage of the country. All the\n",
            "most important railroads are no longer State roads, but instruments\n",
            "of interstate commerce. Probably 85 per cent of their business is\n",
            "interstate business. It is the Nation alone which can with wisdom,\n",
            "justice, and effectiveness exercise over these interstate railroads\n",
            "the thorough and complete supervision which should be exercised. One\n",
            "of the chief, and probably the chief, of the domestic causes for the\n",
            "adoption of the Constitution was the need to confer upon the Nation\n",
            "exclusive control over interstate commerce. But this grant of power\n",
            "is worthless unless it is held to confer thoroughgoing and complete\n",
            "control over practically the sole instrumentalities of interstate\n",
            "commerce――the interstate railroads. The railroads themselves have\n",
            "been exceedingly shortsighted in the rancorous bitterness which they\n",
            "have shown against the resumption by the Nation of this long-neglected\n",
            "power. Great capitalists, who pride themselves upon their extreme\n",
            "conservatism, often believe they are acting in the interests of\n",
            "property when following a course so shortsighted as to be really an\n",
            "assault upon property. They have shown extreme unwisdom in their\n",
            "violent opposition to the assumption of complete control over the\n",
            "railroads by the Federal Government. The American people will not\n",
            "tolerate the happy-go-lucky system of no control over the great\n",
            "interstate railroads, with the insolent and manifold abuses which\n",
            "have so generally accompanied it. The control must exist somewhere;\n",
            "and unless it is by thoroughgoing and radical law placed upon the\n",
            "statute books of the Nation, it will be exercised in ever-increasing\n",
            "measure by the several States. The same considerations which made\n",
            "the founders of the Constitution deem it imperative that the Nation\n",
            "should have complete control of interstate commerce apply with peculiar\n",
            "force to the control of interstate railroads at the present day; and\n",
            "the arguments of Madison of Virginia, Pinckney of South Carolina,\n",
            "and Hamilton and Jay of New York, in their essence apply now as they\n",
            "applied one hundred and twenty years ago.\n",
            "\n",
            "The national convention which framed the Constitution, and in which\n",
            "almost all the most eminent of the first generation of American\n",
            "statesmen sat, embodied the theory of the instrument in a resolution,\n",
            "to the effect that the National Government should have power in cases\n",
            "where the separate States were incompetent to act with full efficiency,\n",
            "and where the harmony of the United States would be interrupted by\n",
            "the exercise of such individual legislation. The interstate railroad\n",
            "situation is exactly a case in point. There will, of course, be local\n",
            "matters affecting railroads which can best be dealt with by local\n",
            "authority, but as national commercial agents the big interstate\n",
            "railroad ought to be completely subject to national authority. Only\n",
            "thus can we secure their complete subjection to, and control by, a\n",
            "single sovereign, representing the whole people, and capable both of\n",
            "protecting the public and of seeing that the railroads neither inflict\n",
            "nor endure injustice.\n",
            "\n",
            "Personally I firmly believe that there should be national legislation\n",
            "to control all industrial corporations doing an interstate business,\n",
            "including the control of the output of their securities, but as to\n",
            "these the necessity for Federal control is less urgent and immediate\n",
            "than is the case with the railroads. Many of the abuses connected\n",
            "with these corporations will probably tend to disappear now that\n",
            "the Government――the public――is gradually getting the upper hand as\n",
            "regards putting a stop to the rebates and special privileges which\n",
            "some of these corporations have enjoyed at the hands of the common\n",
            "carriers. But ultimately it will be found that the complete remedy for\n",
            "these abuses lies in direct and affirmative action by the National\n",
            "Government. That there is constitutional power for the national\n",
            "regulation of these corporations I have myself no question. Two or\n",
            "three generations ago there was just as much hostility to national\n",
            "control of banks as there is now to national control of railroads\n",
            "or of industrial corporations doing an interstate business. That\n",
            "hostility now seems to us ludicrous in its lack of warrant; in\n",
            "like manner, gentlemen, our descendants will regard with wonder the\n",
            "present opposition to giving the National Government adequate power to\n",
            "control those great corporations, which it alone can fully, and yet\n",
            "wisely, safely, and justly control. Remember also that to regulate\n",
            "the formation of these corporations offers one of the most direct and\n",
            "efficient methods of regulating their activities.\n",
            "\n",
            "I am not pleading for an extension of constitutional power. I am\n",
            "pleading that constitutional power which already exists shall be\n",
            "applied to new conditions which did not exist when the Constitution\n",
            "went into being. I ask that the national powers already conferred upon\n",
            "the National Government by the Constitution shall be so used as to\n",
            "bring national commerce and industry effectively under the authority\n",
            "of the Federal Government and thereby avert industrial chaos. My plea\n",
            "is not to bring about a condition of centralization. It is that the\n",
            "Government shall recognize a condition of centralization in a field\n",
            "where it already exists. When the national banking law was passed it\n",
            "represented in reality not centralization, but recognition of the fact\n",
            "that the country had so far advanced that the currency was already\n",
            "a matter of National concern and must be dealt with by the central\n",
            "authority at Washington. So it is with interstate industrialism and\n",
            "especially with the matter of interstate railroad operation to-day.\n",
            "Centralization has already taken place in the world of commerce and\n",
            "industry. All I ask is that the National Government look this fact in\n",
            "the face, accept it as a fact, and fit itself accordingly for a policy\n",
            "of supervision and control over this centralized commerce and industry.\n",
            "\n",
            "\n",
            "                             [Illustration]\n",
            "\n",
            "\n",
            "                   *       *       *       *       *\n",
            "\n"
          ]
        }
      ]
    },
    {
      "cell_type": "code",
      "source": [
        "# tokenize the text with regular expressions\n",
        "# \"w+\": This expression matches the alphanumeric character in the text\n",
        "token=re.findall('\\w+', text)\n",
        "token[:10]\n"
      ],
      "metadata": {
        "colab": {
          "base_uri": "https://localhost:8080/"
        },
        "id": "xFn-WLRILYDH",
        "outputId": "89336fcf-814c-4a57-cdaf-acf02caddd3b"
      },
      "execution_count": 30,
      "outputs": [
        {
          "output_type": "execute_result",
          "data": {
            "text/plain": [
              "['START',\n",
              " 'OF',\n",
              " 'THE',\n",
              " 'PROJECT',\n",
              " 'GUTENBERG',\n",
              " 'EBOOK',\n",
              " 'ADDRESS',\n",
              " 'OF',\n",
              " 'PRESIDENT',\n",
              " 'ROOSEVELT']"
            ]
          },
          "metadata": {},
          "execution_count": 30
        }
      ]
    },
    {
      "cell_type": "code",
      "source": [
        "#keep the tokenized words in a list\n",
        "words=[]\n",
        "for word in token:\n",
        "    words.append(word.lower())\n",
        "    "
      ],
      "metadata": {
        "id": "H8fpqAGnLd5f"
      },
      "execution_count": 31,
      "outputs": []
    },
    {
      "cell_type": "code",
      "source": [
        "# remove English Common words i.e stop words\n",
        "# download the package\n",
        "nltk.download(\"stopwords\")\n",
        "sw=nltk.corpus.stopwords.words('english')\n"
      ],
      "metadata": {
        "colab": {
          "base_uri": "https://localhost:8080/"
        },
        "id": "HDntj60qLyN1",
        "outputId": "6c442c04-906d-49e3-96cb-a9b99b27f852"
      },
      "execution_count": 32,
      "outputs": [
        {
          "output_type": "stream",
          "name": "stdout",
          "text": [
            "[nltk_data] Downloading package stopwords to /root/nltk_data...\n",
            "[nltk_data]   Package stopwords is already up-to-date!\n"
          ]
        }
      ]
    },
    {
      "cell_type": "code",
      "source": [
        "\n",
        "# get the list without stop words\n",
        "words_without_stopwords=[]\n",
        "for word in words:\n",
        "    if word not in sw:\n",
        "        words_without_stopwords.append(word)\n",
        "words_without_stopwords[:10]\n"
      ],
      "metadata": {
        "colab": {
          "base_uri": "https://localhost:8080/"
        },
        "id": "xy7W5GeQL7ka",
        "outputId": "4458a74a-ce42-465b-e59b-8bd82a491dbc"
      },
      "execution_count": 33,
      "outputs": [
        {
          "output_type": "execute_result",
          "data": {
            "text/plain": [
              "['start',\n",
              " 'project',\n",
              " 'gutenberg',\n",
              " 'ebook',\n",
              " 'address',\n",
              " 'president',\n",
              " 'roosevelt',\n",
              " 'st',\n",
              " 'louis',\n",
              " 'missouri']"
            ]
          },
          "metadata": {},
          "execution_count": 33
        }
      ]
    },
    {
      "cell_type": "markdown",
      "source": [
        "Plot the Word Frequencies"
      ],
      "metadata": {
        "id": "1IcBUl8ZMDcD"
      }
    },
    {
      "cell_type": "code",
      "source": [
        "sns.set_style('darkgrid')\n",
        "nlp_words=nltk.FreqDist(words_without_stopwords)\n",
        "nlp_words.plot(30);"
      ],
      "metadata": {
        "colab": {
          "base_uri": "https://localhost:8080/",
          "height": 332
        },
        "id": "-sCa_pzqMEg0",
        "outputId": "bebdd47a-8abd-47e2-d8d8-bd2adcaf4edc"
      },
      "execution_count": 34,
      "outputs": [
        {
          "output_type": "display_data",
          "data": {
            "text/plain": [
              "<Figure size 432x288 with 1 Axes>"
            ],
            "image/png": "[encoded data removed]"
          },
          "metadata": {}
        }
      ]
    },
    {
      "cell_type": "markdown",
      "metadata": {
        "id": "ZZPb70ymzK0Q"
      },
      "source": [
        "## 4. Discussion and Commentary<a name=\"results\"></a>"
      ]
    },
    {
      "cell_type": "markdown",
      "metadata": {
        "id": "MGCLImD0zK0Q"
      },
      "source": [
        "Use of Natural Language Toolkit library makes it simple to analyze text by providing many helper functions.\n",
        "\n",
        "The reults of this analysis show that the most used words are 'national' and 'interstate'"
      ]
    },
    {
      "cell_type": "markdown",
      "metadata": {
        "id": "Utv1g8n5zK0R"
      },
      "source": [
        "## 5. Conclusion <a name=\"conclusion\"></a>"
      ]
    },
    {
      "cell_type": "markdown",
      "metadata": {
        "id": "dps_fQmgzK0R"
      },
      "source": [
        "We can conclude that the most frequent words in this data are 'national' and 'interstate'"
      ]
    },
    {
      "cell_type": "markdown",
      "source": [
        "## 6. References <a name=\"references\"></a>"
      ],
      "metadata": {
        "id": "-v-IfruCG6SH"
      }
    },
    {
      "cell_type": "markdown",
      "source": [
        "Natural Language Toolkit Documentation. Retrieved May 27, 2022, from https://www.nltk.org/\n",
        "\n",
        "Address of President Roosevelt at St. Louis, Missouri, October 2, 1907 by Roosevelt. Retrieved May 27, 2022, from https://www.gutenberg.org/cache/epub/68181/pg68181.txt\n"
      ],
      "metadata": {
        "id": "hq5h0uZSHCpg"
      }
    }
  ],
  "metadata": {
    "kernelspec": {
      "display_name": "Python 3",
      "language": "python",
      "name": "python3"
    },
    "language_info": {
      "codemirror_mode": {
        "name": "ipython",
        "version": 3
      },
      "file_extension": ".py",
      "mimetype": "text/x-python",
      "name": "python",
      "nbconvert_exporter": "python",
      "pygments_lexer": "ipython3",
      "version": "3.7.6"
    },
    "colab": {
      "name": "Q2-report.ipynb",
      "provenance": [],
      "collapsed_sections": [
        "pXbnd8W9zKz7",
        "RqDerSEKzKz_",
        "PTB7ck3EzK0G"
      ]
    }
  },
  "nbformat": 4,
  "nbformat_minor": 0
}