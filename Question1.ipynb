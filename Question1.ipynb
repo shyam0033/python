{
  "cells": [
    {
      "cell_type": "markdown",
      "metadata": {
        "id": "3tbS9iCXzKzg"
      },
      "source": [
        "# Adword Generator"
      ]
    },
    {
      "cell_type": "markdown",
      "metadata": {
        "id": "TqBF6ZUfzKzk"
      },
      "source": [
        "## Table of contents\n",
        "1. [Introduction](#introduction)\n",
        "2. [Data](#data)\n",
        "3. [Methodology](#methodology)<br>\n",
        "  3.1 [Data Analysis](#dataAnalysis)<br>\n",
        "  3.2 [Code and Data Plots](#code)<br>\n",
        "4. [Discussion and Commentary](#results)\n",
        "6. [Conclusion](#conclusion)\n",
        "7. [References](#references)"
      ]
    },
    {
      "cell_type": "markdown",
      "metadata": {
        "id": "oFJkUYvIzKzm"
      },
      "source": [
        "\n",
        "## 1. Introduction<a name=\"introduction\"></a>"
      ]
    },
    {
      "cell_type": "markdown",
      "metadata": {
        "id": "-ve4WggZzKzn"
      },
      "source": [
        "In the advertisement field, keywords are very important. These keywords can either be used for Search Engine Optimization or digital marketing and advertising.\n",
        "\n",
        "This is a notebook python program that is fed keywords and it combines them and finally generates a word cloud. Word cloud is a simple but powerful way of analyzing and visualizing data. \n"
      ]
    },
    {
      "cell_type": "markdown",
      "metadata": {
        "id": "3ZsA1qFLzKzp"
      },
      "source": [
        "## 2. Data <a name=\"data\"></a>"
      ]
    },
    {
      "cell_type": "markdown",
      "source": [
        "The data used here is just example keywords that are related to the field of furniture sales."
      ],
      "metadata": {
        "id": "HcoiSgYuBOO3"
      }
    },
    {
      "cell_type": "markdown",
      "source": [
        "## 3. Methodology <a name=\"methodology\"></a>"
      ],
      "metadata": {
        "id": "LsVOyLtDBQA_"
      }
    },
    {
      "cell_type": "markdown",
      "source": [
        "### 3.1\tData Analysis <a name=\"dataAnalysis\"></a>"
      ],
      "metadata": {
        "id": "S3I6BLspBV46"
      }
    },
    {
      "cell_type": "markdown",
      "source": [
        "We do a data analysis to get a deeper understanding of data."
      ],
      "metadata": {
        "id": "Mt_Py93oBmQz"
      }
    },
    {
      "cell_type": "markdown",
      "metadata": {
        "id": "jxcrhf6-zKzq"
      },
      "source": [
        "The first step here is to combine the keywords fed into the program.\n"
      ]
    },
    {
      "cell_type": "code",
      "source": [
        "# You can add as many products and words as possible in the lists below \n",
        "products = ['sofas', 'recliners']\n",
        "words = ['buy', 'prices', 'discount', 'offer', 'promotion', 'promo', 'shop']\n",
        "\n",
        "keywords_list = []\n",
        "# Loop through products\n",
        "for product in products:\n",
        "    # Loop through words\n",
        "    for word in words:\n",
        "        # Append combinations\n",
        "        keywords_list.append([product, product + ' ' + word])\n",
        "        keywords_list.append([product, word + ' ' + product])"
      ],
      "metadata": {
        "id": "d-thmoL69OfO"
      },
      "execution_count": 5,
      "outputs": []
    },
    {
      "cell_type": "markdown",
      "source": [
        "\n",
        "\n",
        "The next step is to do an exploratory data analysis so as to understand the data better.\n",
        "\n",
        "First, we import the libraries that we will need."
      ],
      "metadata": {
        "id": "un-4bNPK9SWA"
      }
    },
    {
      "cell_type": "code",
      "source": [
        "# Load Pandas library\n",
        "import pandas as pd\n",
        "\n",
        "# Create a DataFrame from list\n",
        "keywords_df = pd.DataFrame.from_records(keywords_list)\n",
        "\n",
        "# Print the keywords DataFrame to explore it\n",
        "print(keywords_df)"
      ],
      "metadata": {
        "colab": {
          "base_uri": "https://localhost:8080/"
        },
        "id": "wTp9frXf9WQ8",
        "outputId": "6efc340b-6947-4b43-fac5-be338772a6a6"
      },
      "execution_count": 6,
      "outputs": [
        {
          "output_type": "stream",
          "name": "stdout",
          "text": [
            "            0                    1\n",
            "0       sofas            sofas buy\n",
            "1       sofas            buy sofas\n",
            "2       sofas         sofas prices\n",
            "3       sofas         prices sofas\n",
            "4       sofas       sofas discount\n",
            "5       sofas       discount sofas\n",
            "6       sofas          sofas offer\n",
            "7       sofas          offer sofas\n",
            "8       sofas      sofas promotion\n",
            "9       sofas      promotion sofas\n",
            "10      sofas          sofas promo\n",
            "11      sofas          promo sofas\n",
            "12      sofas           sofas shop\n",
            "13      sofas           shop sofas\n",
            "14  recliners        recliners buy\n",
            "15  recliners        buy recliners\n",
            "16  recliners     recliners prices\n",
            "17  recliners     prices recliners\n",
            "18  recliners   recliners discount\n",
            "19  recliners   discount recliners\n",
            "20  recliners      recliners offer\n",
            "21  recliners      offer recliners\n",
            "22  recliners  recliners promotion\n",
            "23  recliners  promotion recliners\n",
            "24  recliners      recliners promo\n",
            "25  recliners      promo recliners\n",
            "26  recliners       recliners shop\n",
            "27  recliners       shop recliners\n"
          ]
        }
      ]
    },
    {
      "cell_type": "markdown",
      "metadata": {
        "id": "74TtHxU2zKzs"
      },
      "source": [
        ""
      ]
    },
    {
      "cell_type": "markdown",
      "metadata": {
        "id": "JKYAyJftzKzt"
      },
      "source": [
        "### 3.2 Code and Data Plots <a name=\"code\"></a>\n",
        "\n",
        "Add headers in the Dataframe and save the it to a CSV file"
      ]
    },
    {
      "cell_type": "code",
      "execution_count": 7,
      "metadata": {
        "id": "EjFMEAkszKzv",
        "colab": {
          "base_uri": "https://localhost:8080/",
          "height": 927
        },
        "outputId": "d959de38-bbc0-411f-f862-fa8297706895"
      },
      "outputs": [
        {
          "output_type": "execute_result",
          "data": {
            "text/plain": [
              "     Ad Group              Keyword\n",
              "0       sofas            sofas buy\n",
              "1       sofas            buy sofas\n",
              "2       sofas         sofas prices\n",
              "3       sofas         prices sofas\n",
              "4       sofas       sofas discount\n",
              "5       sofas       discount sofas\n",
              "6       sofas          sofas offer\n",
              "7       sofas          offer sofas\n",
              "8       sofas      sofas promotion\n",
              "9       sofas      promotion sofas\n",
              "10      sofas          sofas promo\n",
              "11      sofas          promo sofas\n",
              "12      sofas           sofas shop\n",
              "13      sofas           shop sofas\n",
              "14  recliners        recliners buy\n",
              "15  recliners        buy recliners\n",
              "16  recliners     recliners prices\n",
              "17  recliners     prices recliners\n",
              "18  recliners   recliners discount\n",
              "19  recliners   discount recliners\n",
              "20  recliners      recliners offer\n",
              "21  recliners      offer recliners\n",
              "22  recliners  recliners promotion\n",
              "23  recliners  promotion recliners\n",
              "24  recliners      recliners promo\n",
              "25  recliners      promo recliners\n",
              "26  recliners       recliners shop\n",
              "27  recliners       shop recliners"
            ],
            "text/html": [
              "\n",
              "  <div id=\"df-1f70ab05-f8a2-4fa4-a2c1-fd59be1ee4fc\">\n",
              "    <div class=\"colab-df-container\">\n",
              "      <div>\n",
              "<style scoped>\n",
              "    .dataframe tbody tr th:only-of-type {\n",
              "        vertical-align: middle;\n",
              "    }\n",
              "\n",
              "    .dataframe tbody tr th {\n",
              "        vertical-align: top;\n",
              "    }\n",
              "\n",
              "    .dataframe thead th {\n",
              "        text-align: right;\n",
              "    }\n",
              "</style>\n",
              "<table border=\"1\" class=\"dataframe\">\n",
              "  <thead>\n",
              "    <tr style=\"text-align: right;\">\n",
              "      <th></th>\n",
              "      <th>Ad Group</th>\n",
              "      <th>Keyword</th>\n",
              "    </tr>\n",
              "  </thead>\n",
              "  <tbody>\n",
              "    <tr>\n",
              "      <th>0</th>\n",
              "      <td>sofas</td>\n",
              "      <td>sofas buy</td>\n",
              "    </tr>\n",
              "    <tr>\n",
              "      <th>1</th>\n",
              "      <td>sofas</td>\n",
              "      <td>buy sofas</td>\n",
              "    </tr>\n",
              "    <tr>\n",
              "      <th>2</th>\n",
              "      <td>sofas</td>\n",
              "      <td>sofas prices</td>\n",
              "    </tr>\n",
              "    <tr>\n",
              "      <th>3</th>\n",
              "      <td>sofas</td>\n",
              "      <td>prices sofas</td>\n",
              "    </tr>\n",
              "    <tr>\n",
              "      <th>4</th>\n",
              "      <td>sofas</td>\n",
              "      <td>sofas discount</td>\n",
              "    </tr>\n",
              "    <tr>\n",
              "      <th>5</th>\n",
              "      <td>sofas</td>\n",
              "      <td>discount sofas</td>\n",
              "    </tr>\n",
              "    <tr>\n",
              "      <th>6</th>\n",
              "      <td>sofas</td>\n",
              "      <td>sofas offer</td>\n",
              "    </tr>\n",
              "    <tr>\n",
              "      <th>7</th>\n",
              "      <td>sofas</td>\n",
              "      <td>offer sofas</td>\n",
              "    </tr>\n",
              "    <tr>\n",
              "      <th>8</th>\n",
              "      <td>sofas</td>\n",
              "      <td>sofas promotion</td>\n",
              "    </tr>\n",
              "    <tr>\n",
              "      <th>9</th>\n",
              "      <td>sofas</td>\n",
              "      <td>promotion sofas</td>\n",
              "    </tr>\n",
              "    <tr>\n",
              "      <th>10</th>\n",
              "      <td>sofas</td>\n",
              "      <td>sofas promo</td>\n",
              "    </tr>\n",
              "    <tr>\n",
              "      <th>11</th>\n",
              "      <td>sofas</td>\n",
              "      <td>promo sofas</td>\n",
              "    </tr>\n",
              "    <tr>\n",
              "      <th>12</th>\n",
              "      <td>sofas</td>\n",
              "      <td>sofas shop</td>\n",
              "    </tr>\n",
              "    <tr>\n",
              "      <th>13</th>\n",
              "      <td>sofas</td>\n",
              "      <td>shop sofas</td>\n",
              "    </tr>\n",
              "    <tr>\n",
              "      <th>14</th>\n",
              "      <td>recliners</td>\n",
              "      <td>recliners buy</td>\n",
              "    </tr>\n",
              "    <tr>\n",
              "      <th>15</th>\n",
              "      <td>recliners</td>\n",
              "      <td>buy recliners</td>\n",
              "    </tr>\n",
              "    <tr>\n",
              "      <th>16</th>\n",
              "      <td>recliners</td>\n",
              "      <td>recliners prices</td>\n",
              "    </tr>\n",
              "    <tr>\n",
              "      <th>17</th>\n",
              "      <td>recliners</td>\n",
              "      <td>prices recliners</td>\n",
              "    </tr>\n",
              "    <tr>\n",
              "      <th>18</th>\n",
              "      <td>recliners</td>\n",
              "      <td>recliners discount</td>\n",
              "    </tr>\n",
              "    <tr>\n",
              "      <th>19</th>\n",
              "      <td>recliners</td>\n",
              "      <td>discount recliners</td>\n",
              "    </tr>\n",
              "    <tr>\n",
              "      <th>20</th>\n",
              "      <td>recliners</td>\n",
              "      <td>recliners offer</td>\n",
              "    </tr>\n",
              "    <tr>\n",
              "      <th>21</th>\n",
              "      <td>recliners</td>\n",
              "      <td>offer recliners</td>\n",
              "    </tr>\n",
              "    <tr>\n",
              "      <th>22</th>\n",
              "      <td>recliners</td>\n",
              "      <td>recliners promotion</td>\n",
              "    </tr>\n",
              "    <tr>\n",
              "      <th>23</th>\n",
              "      <td>recliners</td>\n",
              "      <td>promotion recliners</td>\n",
              "    </tr>\n",
              "    <tr>\n",
              "      <th>24</th>\n",
              "      <td>recliners</td>\n",
              "      <td>recliners promo</td>\n",
              "    </tr>\n",
              "    <tr>\n",
              "      <th>25</th>\n",
              "      <td>recliners</td>\n",
              "      <td>promo recliners</td>\n",
              "    </tr>\n",
              "    <tr>\n",
              "      <th>26</th>\n",
              "      <td>recliners</td>\n",
              "      <td>recliners shop</td>\n",
              "    </tr>\n",
              "    <tr>\n",
              "      <th>27</th>\n",
              "      <td>recliners</td>\n",
              "      <td>shop recliners</td>\n",
              "    </tr>\n",
              "  </tbody>\n",
              "</table>\n",
              "</div>\n",
              "      <button class=\"colab-df-convert\" onclick=\"convertToInteractive('df-1f70ab05-f8a2-4fa4-a2c1-fd59be1ee4fc')\"\n",
              "              title=\"Convert this dataframe to an interactive table.\"\n",
              "              style=\"display:none;\">\n",
              "        \n",
              "  <svg xmlns=\"http://www.w3.org/2000/svg\" height=\"24px\"viewBox=\"0 0 24 24\"\n",
              "       width=\"24px\">\n",
              "    <path d=\"M0 0h24v24H0V0z\" fill=\"none\"/>\n",
              "    <path d=\"M18.56 5.44l.94 2.06.94-2.06 2.06-.94-2.06-.94-.94-2.06-.94 2.06-2.06.94zm-11 1L8.5 8.5l.94-2.06 2.06-.94-2.06-.94L8.5 2.5l-.94 2.06-2.06.94zm10 10l.94 2.06.94-2.06 2.06-.94-2.06-.94-.94-2.06-.94 2.06-2.06.94z\"/><path d=\"M17.41 7.96l-1.37-1.37c-.4-.4-.92-.59-1.43-.59-.52 0-1.04.2-1.43.59L10.3 9.45l-7.72 7.72c-.78.78-.78 2.05 0 2.83L4 21.41c.39.39.9.59 1.41.59.51 0 1.02-.2 1.41-.59l7.78-7.78 2.81-2.81c.8-.78.8-2.07 0-2.86zM5.41 20L4 18.59l7.72-7.72 1.47 1.35L5.41 20z\"/>\n",
              "  </svg>\n",
              "      </button>\n",
              "      \n",
              "  <style>\n",
              "    .colab-df-container {\n",
              "      display:flex;\n",
              "      flex-wrap:wrap;\n",
              "      gap: 12px;\n",
              "    }\n",
              "\n",
              "    .colab-df-convert {\n",
              "      background-color: #E8F0FE;\n",
              "      border: none;\n",
              "      border-radius: 50%;\n",
              "      cursor: pointer;\n",
              "      display: none;\n",
              "      fill: #1967D2;\n",
              "      height: 32px;\n",
              "      padding: 0 0 0 0;\n",
              "      width: 32px;\n",
              "    }\n",
              "\n",
              "    .colab-df-convert:hover {\n",
              "      background-color: #E2EBFA;\n",
              "      box-shadow: 0px 1px 2px rgba(60, 64, 67, 0.3), 0px 1px 3px 1px rgba(60, 64, 67, 0.15);\n",
              "      fill: #174EA6;\n",
              "    }\n",
              "\n",
              "    [theme=dark] .colab-df-convert {\n",
              "      background-color: #3B4455;\n",
              "      fill: #D2E3FC;\n",
              "    }\n",
              "\n",
              "    [theme=dark] .colab-df-convert:hover {\n",
              "      background-color: #434B5C;\n",
              "      box-shadow: 0px 1px 3px 1px rgba(0, 0, 0, 0.15);\n",
              "      filter: drop-shadow(0px 1px 2px rgba(0, 0, 0, 0.3));\n",
              "      fill: #FFFFFF;\n",
              "    }\n",
              "  </style>\n",
              "\n",
              "      <script>\n",
              "        const buttonEl =\n",
              "          document.querySelector('#df-1f70ab05-f8a2-4fa4-a2c1-fd59be1ee4fc button.colab-df-convert');\n",
              "        buttonEl.style.display =\n",
              "          google.colab.kernel.accessAllowed ? 'block' : 'none';\n",
              "\n",
              "        async function convertToInteractive(key) {\n",
              "          const element = document.querySelector('#df-1f70ab05-f8a2-4fa4-a2c1-fd59be1ee4fc');\n",
              "          const dataTable =\n",
              "            await google.colab.kernel.invokeFunction('convertToInteractive',\n",
              "                                                     [key], {});\n",
              "          if (!dataTable) return;\n",
              "\n",
              "          const docLinkHtml = 'Like what you see? Visit the ' +\n",
              "            '<a target=\"_blank\" href=https://colab.research.google.com/notebooks/data_table.ipynb>data table notebook</a>'\n",
              "            + ' to learn more about interactive tables.';\n",
              "          element.innerHTML = '';\n",
              "          dataTable['output_type'] = 'display_data';\n",
              "          await google.colab.output.renderOutput(dataTable, element);\n",
              "          const docLink = document.createElement('div');\n",
              "          docLink.innerHTML = docLinkHtml;\n",
              "          element.appendChild(docLink);\n",
              "        }\n",
              "      </script>\n",
              "    </div>\n",
              "  </div>\n",
              "  "
            ]
          },
          "metadata": {},
          "execution_count": 7
        }
      ],
      "source": [
        "# Add headers of the columns\n",
        "keywords_df = keywords_df.rename(columns={0: 'Ad Group', 1: 'Keyword'})\n",
        "\n",
        "# Save the resulting dataframe into a csv file \n",
        "keywords_df.to_csv('keywords.csv', index=False)\n",
        "keywords_df"
      ]
    },
    {
      "cell_type": "markdown",
      "metadata": {
        "id": "dAYf3RmjzKz1"
      },
      "source": [
        "Creating a Wordcloud"
      ]
    },
    {
      "cell_type": "code",
      "execution_count": 8,
      "metadata": {
        "id": "fqm0AfJTzKz2",
        "outputId": "83eec230-03ce-45f4-c9ca-343e5cb86020",
        "colab": {
          "base_uri": "https://localhost:8080/",
          "height": 379
        }
      },
      "outputs": [
        {
          "output_type": "display_data",
          "data": {
            "text/plain": [
              "<Figure size 432x288 with 1 Axes>"
            ],
            "image/png": "[encoded data removed]"
          },
          "metadata": {
            "needs_background": "light"
          }
        },
        {
          "output_type": "display_data",
          "data": {
            "text/plain": [
              "<Figure size 432x288 with 1 Axes>"
            ],
            "image/png": "[encoded data removed]"
          },
          "metadata": {
            "needs_background": "light"
          }
        }
      ],
      "source": [
        "import csv\n",
        "from wordcloud import WordCloud\n",
        "\n",
        "\n",
        "#read first column of csv file to string of words seperated\n",
        "#by tab\n",
        "\n",
        "keywords_list = []\n",
        "with open('keywords.csv', 'r') as f:\n",
        "    reader = csv.reader(f)\n",
        "    keywords_list = '\\t'.join([i[1] for i in reader])\n",
        "  \n",
        "\n",
        "# Generate a word cloud image\n",
        "wordcloud = WordCloud().generate(keywords_list)\n",
        "\n",
        "# Display the generated image:\n",
        "# the matplotlib way:\n",
        "import matplotlib.pyplot as plt\n",
        "plt.imshow(wordcloud, interpolation='bilinear')\n",
        "plt.axis(\"off\")\n",
        "\n",
        "# lower max_font_size\n",
        "wordcloud = WordCloud(max_font_size=40).generate(keywords_list)\n",
        "plt.figure()\n",
        "plt.imshow(wordcloud, interpolation=\"bilinear\")\n",
        "plt.axis(\"off\")\n",
        "plt.show()"
      ]
    },
    {
      "cell_type": "markdown",
      "metadata": {
        "id": "ZZPb70ymzK0Q"
      },
      "source": [
        "## 4. Discussion and Commentary<a name=\"results\"></a>"
      ]
    },
    {
      "cell_type": "markdown",
      "metadata": {
        "id": "MGCLImD0zK0Q"
      },
      "source": [
        "We have seen that it's very simple to join keywords together in order to be used for advertisiment purposes.\n",
        "\n",
        "This technique could even be more useful if fed say data from a webpage for analysis rather than feeding data from CSV."
      ]
    },
    {
      "cell_type": "markdown",
      "metadata": {
        "id": "Utv1g8n5zK0R"
      },
      "source": [
        "## 5. Conclusion <a name=\"conclusion\"></a>"
      ]
    },
    {
      "cell_type": "markdown",
      "metadata": {
        "id": "dps_fQmgzK0R"
      },
      "source": [
        "In conclusion, we have established that simple text analysis tools like word cloud are very important in visualizing data that could be used for advertisement or SEO. It reduces the time required to scan through huge text data."
      ]
    },
    {
      "cell_type": "markdown",
      "source": [
        "## 6. References <a name=\"references\"></a>"
      ],
      "metadata": {
        "id": "-v-IfruCG6SH"
      }
    },
    {
      "cell_type": "markdown",
      "source": [
        "Generating WordClouds in Python Tutorial (November 8, 2019). Retrieved May 27, 2022, from https://www.datacamp.com/tutorial/wordcloud-python\n",
        "\n",
        "WordCloud for Python documentation. Retrieved May 27, 2022, from https://amueller.github.io/word_cloud/\n"
      ],
      "metadata": {
        "id": "hq5h0uZSHCpg"
      }
    }
  ],
  "metadata": {
    "kernelspec": {
      "display_name": "Python 3",
      "language": "python",
      "name": "python3"
    },
    "language_info": {
      "codemirror_mode": {
        "name": "ipython",
        "version": 3
      },
      "file_extension": ".py",
      "mimetype": "text/x-python",
      "name": "python",
      "nbconvert_exporter": "python",
      "pygments_lexer": "ipython3",
      "version": "3.7.6"
    },
    "colab": {
      "name": "Q1 - from Bnx.ipynb",
      "provenance": [],
      "collapsed_sections": [
        "pXbnd8W9zKz7",
        "RqDerSEKzKz_",
        "PTB7ck3EzK0G"
      ]
    }
  },
  "nbformat": 4,
  "nbformat_minor": 0
}